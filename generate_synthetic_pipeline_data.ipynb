{
 "cells": [
  {
   "cell_type": "markdown",
   "id": "a40e4e56-224e-4302-9ba1-5d33c6e042e1",
   "metadata": {},
   "source": [
    "# Generate some example rare variant data \n",
    "We also generate phenotype data correlated with age and sex covariates\n",
    "```\n",
    "Requires:\n",
    "- numpy\n",
    "- pandas\n",
    "- scipy\n",
    "- pathlib\n",
    "```"
   ]
  },
  {
   "cell_type": "code",
   "execution_count": 1,
   "id": "ad646127-9270-40be-93ef-3823bbfccc04",
   "metadata": {},
   "outputs": [],
   "source": [
    "import pandas as pd\n",
    "import numpy as np\n",
    "from scipy.special import expit\n",
    "import pathlib"
   ]
  },
  {
   "cell_type": "code",
   "execution_count": 2,
   "id": "d3572de0-5fbc-42b7-a7a6-07a5d872d371",
   "metadata": {},
   "outputs": [],
   "source": [
    "n = 5000\n",
    "p = 1000"
   ]
  },
  {
   "cell_type": "markdown",
   "id": "69865355-3f4f-4d1d-b56c-2c80c245823b",
   "metadata": {},
   "source": [
    "### Generate rare variant data"
   ]
  },
  {
   "cell_type": "code",
   "execution_count": 3,
   "id": "663e37f2-7510-4801-b8bd-b525361db4c9",
   "metadata": {},
   "outputs": [
    {
     "data": {
      "text/plain": [
       "array([[0, 0, 1, ..., 0, 0, 0],\n",
       "       [0, 0, 0, ..., 0, 0, 0],\n",
       "       [0, 0, 0, ..., 0, 0, 0],\n",
       "       ...,\n",
       "       [0, 0, 0, ..., 0, 0, 0],\n",
       "       [0, 0, 0, ..., 0, 0, 0],\n",
       "       [0, 0, 0, ..., 0, 0, 0]], shape=(5000, 1000))"
      ]
     },
     "execution_count": 3,
     "metadata": {},
     "output_type": "execute_result"
    }
   ],
   "source": [
    "np.random.seed(1)\n",
    "maf = 0.01\n",
    "X = 1*(np.random.rand(n,p)<=maf)\n",
    "X"
   ]
  },
  {
   "cell_type": "markdown",
   "id": "a4f663bc-47c9-4a7b-a775-aec197837596",
   "metadata": {},
   "source": [
    "### Generate age and sex covariates"
   ]
  },
  {
   "cell_type": "code",
   "execution_count": 4,
   "id": "498d2442-4a54-4ad4-b9b1-49799eb724f0",
   "metadata": {},
   "outputs": [],
   "source": [
    "np.random.seed(1)\n",
    "sex = 1*(np.random.rand(n)<=expit(X.dot(0.01*np.ones(p))))\n",
    "age = np.abs(30 + 5*X.dot(np.ones(p))+ 2.5*np.random.randn(n))"
   ]
  },
  {
   "cell_type": "markdown",
   "id": "25ca2b9f-bc7d-479e-b252-dd925da3d386",
   "metadata": {},
   "source": [
    "### Generate phenotype"
   ]
  },
  {
   "cell_type": "code",
   "execution_count": 5,
   "id": "43ec4e76-ea33-4812-847d-6d1443cf28a6",
   "metadata": {},
   "outputs": [],
   "source": [
    "p0_rare_variant = 5"
   ]
  },
  {
   "cell_type": "code",
   "execution_count": 6,
   "id": "0dc96d7c-8900-47e1-a365-fb5a5fd75f2c",
   "metadata": {},
   "outputs": [
    {
     "data": {
      "text/plain": [
       "(np.int64(119), np.float64(0.0238))"
      ]
     },
     "execution_count": 6,
     "metadata": {},
     "output_type": "execute_result"
    }
   ],
   "source": [
    "np.random.seed(1)\n",
    "cov_arr = np.hstack([\n",
    "    np.asarray(age)[:,np.newaxis], \n",
    "    np.asarray(sex)[:,np.newaxis]\n",
    "])\n",
    "\n",
    "cov_arr_n = (cov_arr-cov_arr.mean(0))/cov_arr.std(0)\n",
    "X_n = (X-X.mean(0))/X.std(0)\n",
    "\n",
    "\n",
    "f_i = X_n[:,:p0_rare_variant].sum(1) + cov_arr_n.sum(1)\n",
    "offset = -10\n",
    "y= 1*(np.random.rand(n)<=expit(f_i+offset))\n",
    "y.sum(), y.mean()"
   ]
  },
  {
   "cell_type": "code",
   "execution_count": 7,
   "id": "3518dd36-ca6b-4634-897b-2394aff26402",
   "metadata": {},
   "outputs": [
    {
     "name": "stdout",
     "output_type": "stream",
     "text": [
      "making synthetic_data\n",
      "written to synthetic_data/y.csv.gz\n",
      "written to synthetic_data/X.csv.gz\n",
      "written to synthetic_data/cov.csv.gz\n"
     ]
    }
   ],
   "source": [
    "y_df = pd.Series(y).rename('pheno')\n",
    "cov_df = pd.DataFrame({'age':age,'sex':sex})\n",
    "X_df = pd.DataFrame(X, columns=[f'gene_{i}' for i in range(p)])\n",
    "\n",
    "output_dir = pathlib.Path('synthetic_data')\n",
    "print('making', output_dir)\n",
    "output_dir.mkdir(exist_ok=True)\n",
    "\n",
    "# compression_settings\n",
    "y_df.to_csv(output_dir / 'y.csv.gz')\n",
    "print('written to', output_dir / 'y.csv.gz')\n",
    "\n",
    "X_df.to_csv(output_dir / 'X.csv.gz', compression={'method': 'gzip', 'compresslevel': 1, 'mtime': 1})\n",
    "print('written to', output_dir / 'X.csv.gz')\n",
    "\n",
    "cov_df.to_csv(output_dir / 'cov.csv.gz')\n",
    "print('written to', output_dir / 'cov.csv.gz')\n"
   ]
  }
 ],
 "metadata": {
  "kernelspec": {
   "display_name": "art-test",
   "language": "python",
   "name": "art_test"
  },
  "language_info": {
   "codemirror_mode": {
    "name": "ipython",
    "version": 3
   },
   "file_extension": ".py",
   "mimetype": "text/x-python",
   "name": "python",
   "nbconvert_exporter": "python",
   "pygments_lexer": "ipython3",
   "version": "3.10.15"
  }
 },
 "nbformat": 4,
 "nbformat_minor": 5
}
